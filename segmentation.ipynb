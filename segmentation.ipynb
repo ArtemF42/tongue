{
 "cells": [
  {
   "cell_type": "code",
   "execution_count": 8,
   "metadata": {},
   "outputs": [],
   "source": [
    "import os\n",
    "from typing import Sequence, Tuple\n",
    "\n",
    "import numpy as np\n",
    "import matplotlib.pyplot as plt\n",
    "\n",
    "from tqdm import tqdm"
   ]
  },
  {
   "cell_type": "code",
   "execution_count": 2,
   "metadata": {},
   "outputs": [],
   "source": [
    "import torch\n",
    "import torch.nn as nn\n",
    "from torch.utils.data import Dataset, DataLoader\n",
    "\n",
    "from torchmetrics import Dice\n",
    "from torchmetrics.classification import BinaryJaccardIndex\n",
    "\n",
    "from segmentation_models_pytorch import DeepLabV3Plus"
   ]
  },
  {
   "cell_type": "code",
   "execution_count": 4,
   "metadata": {},
   "outputs": [],
   "source": [
    "import cv2\n",
    "\n",
    "import albumentations as A\n",
    "from albumentations.pytorch import ToTensorV2"
   ]
  },
  {
   "cell_type": "code",
   "execution_count": 3,
   "metadata": {},
   "outputs": [
    {
     "data": {
      "text/plain": [
       "device(type='cuda')"
      ]
     },
     "execution_count": 3,
     "metadata": {},
     "output_type": "execute_result"
    }
   ],
   "source": [
    "DEVICE = torch.device('cuda' if torch.cuda.is_available() else 'cpu')\n",
    "DEVICE"
   ]
  },
  {
   "cell_type": "code",
   "execution_count": 6,
   "metadata": {},
   "outputs": [],
   "source": [
    "MEAN = np.array([0.585, 0.466, 0.445])\n",
    "STD = np.array([0.224, 0.208, 0.198])"
   ]
  },
  {
   "cell_type": "code",
   "execution_count": 7,
   "metadata": {},
   "outputs": [],
   "source": [
    "class ImageDatasetForSegmentation(Dataset):\n",
    "    def __init__(self, path: str, is_train: bool = True) -> None:\n",
    "        super().__init__()\n",
    "\n",
    "        self.resize = A.Resize(256, 256)\n",
    "        self.transform = A.Compose([\n",
    "            A.Normalize(mean=MEAN, std=STD),\n",
    "            A.HorizontalFlip(),\n",
    "            A.VerticalFlip(),\n",
    "            A.Rotate(45, border_mode=cv2.BORDER_CONSTANT, value=0),\n",
    "            A.RandomBrightnessContrast(0.2),\n",
    "            ToTensorV2()\n",
    "        ]) if is_train else A.Compose([\n",
    "            A.Normalize(mean=MEAN, std=STD),\n",
    "            ToTensorV2()\n",
    "        ])\n",
    "\n",
    "        self.images, self.masks = [], []\n",
    "        \n",
    "        for file in tqdm(os.listdir(f'{path}/images')):\n",
    "            if not os.path.exists(f'{path}/masks/{file}'):\n",
    "                continue\n",
    "\n",
    "            image = cv2.cvtColor(cv2.imread(f'{path}/images/{file}'), cv2.COLOR_BGR2RGB)\n",
    "            mask = cv2.imread(f'{path}/masks/{file}', cv2.IMREAD_GRAYSCALE) / 255\n",
    "\n",
    "            resized = self.resize(image=image, mask=mask)\n",
    "\n",
    "            self.images.append(resized['image']), self.masks.append(resized['mask'])\n",
    "\n",
    "    def __getitem__(self, index: int) -> Tuple[torch.Tensor, torch.Tensor]:\n",
    "        transformed = self.transform(image=self.images[index], mask=self.masks[index])\n",
    "        return transformed['image'].float(), transformed['mask'].float()\n",
    "\n",
    "    def __len__(self) -> int:\n",
    "        return len(self.images)"
   ]
  },
  {
   "cell_type": "code",
   "execution_count": 9,
   "metadata": {},
   "outputs": [],
   "source": [
    "denormalize = A.Normalize(\n",
    "    mean=(-1) * MEAN / STD,\n",
    "    std=1 / STD,\n",
    "    max_pixel_value=1.0\n",
    ")\n",
    "\n",
    "\n",
    "def restore_image(image: torch.Tensor) -> np.ndarray:\n",
    "    return denormalize(image=image.permute(1, 2, 0).numpy())['image']\n",
    "\n",
    "\n",
    "def plot_image_grid(images: Sequence[torch.Tensor | np.ndarray]):\n",
    "    fig, axs = plt.subplots(1, len(images), gridspec_kw={'wspace': 0, 'hspace': 0})\n",
    "\n",
    "    for ax, image in zip(axs, images):\n",
    "        ax.imshow(image)\n",
    "        ax.axis('off')"
   ]
  },
  {
   "cell_type": "code",
   "execution_count": null,
   "metadata": {},
   "outputs": [],
   "source": []
  }
 ],
 "metadata": {
  "kernelspec": {
   "display_name": "Python 3",
   "language": "python",
   "name": "python3"
  },
  "language_info": {
   "codemirror_mode": {
    "name": "ipython",
    "version": 3
   },
   "file_extension": ".py",
   "mimetype": "text/x-python",
   "name": "python",
   "nbconvert_exporter": "python",
   "pygments_lexer": "ipython3",
   "version": "3.11.8"
  }
 },
 "nbformat": 4,
 "nbformat_minor": 2
}
